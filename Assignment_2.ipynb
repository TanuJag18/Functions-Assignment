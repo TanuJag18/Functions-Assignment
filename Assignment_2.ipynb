{
 "cells": [
  {
   "cell_type": "code",
   "execution_count": 1,
   "id": "4682bcac-fc6c-40bb-9ec6-2dddd2f4b992",
   "metadata": {},
   "outputs": [],
   "source": [
    "# Theory Questions:\n",
    "# Q.1: What is the difference between a function and a method in Python?\n",
    "# Ans: A function is a standalone block of code that performs a specific task and can be called from anywhere in your program, while a method is a function that is specifically defined within a class and is associated with objects of that class"
   ]
  },
  {
   "cell_type": "code",
   "execution_count": null,
   "id": "165ab6aa-90b5-4fb7-b0f5-8b47f2bb16e9",
   "metadata": {},
   "outputs": [],
   "source": [
    "# Q.2: Explain the concept of function arguments and parameters in Python.\n",
    "#Ans: Function arguments are the values you pass to a function when you call it, while \"parameters\" are the variables listed inside the function definition that receive those values"
   ]
  },
  {
   "cell_type": "code",
   "execution_count": 11,
   "id": "0b7ebeb4-2306-48a5-bd28-f852d6868a19",
   "metadata": {},
   "outputs": [],
   "source": [
    "# Q3. What are the different ways to define and call a function in Python?\n",
    "#Ans: We can define a function using the def keyword, and call it from anywhere in the program. You can also pass different types of arguments to a function, such as variable-length arguments and arbitrary keyword arguments. "
   ]
  },
  {
   "cell_type": "code",
   "execution_count": null,
   "id": "f8cfca63-7f08-496f-b1c2-48d1f175250c",
   "metadata": {},
   "outputs": [],
   "source": [
    "# Q4. What is the purpose of the `return` statement in a Python function?\n",
    "#Ans: A return statement is used to end the execution of the function call and it “returns” the value of the expression following the return keyword to the caller."
   ]
  },
  {
   "cell_type": "code",
   "execution_count": null,
   "id": "f7ee166a-63fa-413a-9ad5-1ae8a7cb73e2",
   "metadata": {},
   "outputs": [],
   "source": [
    "# Q5. What are iterators in Python and how do they differ from iterables?\n",
    "#Ans: An Iterable is basically an object that any user can iterate over. An Iterator is also an object that helps a user in iterating over another object (that is iterable)"
   ]
  },
  {
   "cell_type": "code",
   "execution_count": null,
   "id": "b0c6e73a-dbbe-4617-8f37-608576cd95d1",
   "metadata": {},
   "outputs": [],
   "source": [
    "#Q6. Explain the concept of generators in Python and how they are defined.\n",
    "#Ans: A Python generator function allows you to declare a function that behaves like an iterator, providing a faster and easier way to create iterators."
   ]
  },
  {
   "cell_type": "code",
   "execution_count": null,
   "id": "aa853655-05b5-4928-bcfa-89fb182dd435",
   "metadata": {},
   "outputs": [],
   "source": [
    "#Q7. What are the advantages of using generators over regular functions?\n",
    "#Ans: The main advantage of using generators over regular functions is their ability to \"yield\" values one at a time, allowing for lazy evaluation and significantly improved memory efficiency when dealing with large datasets"
   ]
  },
  {
   "cell_type": "code",
   "execution_count": null,
   "id": "8b674e0e-c8f0-4012-adae-d190d69c5946",
   "metadata": {},
   "outputs": [],
   "source": [
    "#Q8. What is a lambda function in Python and when is it typically used?\n",
    "#Ans: A lambda function in Python is a small, anonymous function that is used for simple, short-lived operations. They are often used when a full function definition is not required. "
   ]
  },
  {
   "cell_type": "code",
   "execution_count": null,
   "id": "193dfaf2-8f46-4746-b8be-439c03957479",
   "metadata": {},
   "outputs": [],
   "source": [
    "#Q9. Explain the purpose and usage of the `map()` function in Python.\n",
    "#Ans: The map() function in Python allows you to apply a specific function to each element of an iterable (like a list or tuple) and returns an iterator containing the transformed results"
   ]
  },
  {
   "cell_type": "code",
   "execution_count": null,
   "id": "622aa689-c20f-4b3e-8daf-f5db58b013a9",
   "metadata": {},
   "outputs": [],
   "source": [
    "#Q10. What is the difference between `map()`, `reduce()`, and `filter()` functions in Python?\n",
    "#Ans: 'Map' operation transforms one form of data into another, 'Reduce' operation combines the elements of a list into a single result and 'Filter' operation selects a subset of items from a list based on a certain condition"
   ]
  },
  {
   "cell_type": "code",
   "execution_count": 13,
   "id": "04355184-3fe2-4615-bda2-2d76cdf59305",
   "metadata": {},
   "outputs": [
    {
     "data": {
      "text/plain": [
       "12"
      ]
     },
     "execution_count": 13,
     "metadata": {},
     "output_type": "execute_result"
    }
   ],
   "source": [
    "#Practical Questions:\n",
    "#Q1. Write a Python function that takes a list of numbers as input and returns the sum of all even numbers inthe list?\n",
    "def sum_of_list(li):\n",
    "    sums=0\n",
    "    for i  in li:\n",
    "        if i%2==0:\n",
    "            sums+=i\n",
    "    return sums\n",
    "sum_of_list([1,2,3,4,6])"
   ]
  },
  {
   "cell_type": "code",
   "execution_count": 14,
   "id": "1cd9e020-92ad-4fff-8b69-17a731eb2340",
   "metadata": {
    "scrolled": true
   },
   "outputs": [
    {
     "data": {
      "text/plain": [
       "'eerhsunaT'"
      ]
     },
     "execution_count": 14,
     "metadata": {},
     "output_type": "execute_result"
    }
   ],
   "source": [
    "#Q2. Create a Python function that accepts a string and returns the reverse of that string.\n",
    "def rev_str(name):\n",
    "    return name[::-1]\n",
    "rev_str(\"Tanushree\")\n",
    "    "
   ]
  },
  {
   "cell_type": "code",
   "execution_count": 23,
   "id": "aed8d4e8-593d-4bd1-858b-8f70849d59ea",
   "metadata": {},
   "outputs": [
    {
     "data": {
      "text/plain": [
       "[4, 16, 9, 25, 36]"
      ]
     },
     "execution_count": 23,
     "metadata": {},
     "output_type": "execute_result"
    }
   ],
   "source": [
    "#Q3. Implement a Python function that takes a list of integers and returns a new list containing the squares of each number.\n",
    "def square_num(li):\n",
    "    lis=[]\n",
    "    for i in li:\n",
    "       lis.append(i*i)\n",
    "    return  lis\n",
    "square_num([2,4,3,5,6])"
   ]
  },
  {
   "cell_type": "code",
   "execution_count": 24,
   "id": "64812da8-e1ee-42e8-a534-b0020bbf10d3",
   "metadata": {},
   "outputs": [
    {
     "name": "stdout",
     "output_type": "stream",
     "text": [
      "True\n",
      "True\n",
      "False\n"
     ]
    }
   ],
   "source": [
    "#Q4. Write a Python function that checks if a given number is prime or not from 1 to 200.\n",
    "def  check_pri(num):\n",
    "    if num>200 or num<2:\n",
    "        return False\n",
    "    rng=int(num**0.5+1)\n",
    "    if num==2:\n",
    "        return True\n",
    "    if num%2==0:\n",
    "        return False\n",
    "    for i in range(3,rng,2):\n",
    "        if num%i==0:\n",
    "            return False\n",
    "    return True\n",
    "print(check_pri(7))\n",
    "print(check_pri(13))\n",
    "print(check_pri(15))"
   ]
  },
  {
   "cell_type": "code",
   "execution_count": 25,
   "id": "81ae9520-6af4-4049-a8d8-a6fda26cb444",
   "metadata": {},
   "outputs": [
    {
     "name": "stdout",
     "output_type": "stream",
     "text": [
      "0 1 1 2 3 5 8 13 21 34 "
     ]
    }
   ],
   "source": [
    "#Q5. Create an iterator class in Python that generates the Fibonacci sequence up to a specified number of terms.\n",
    "class Fibo:\n",
    "    def __init__(self, maxi):\n",
    "        self.max_value = maxi\n",
    "        self.a, self.b = 0, 1\n",
    "    \n",
    "    def __iter__(self):\n",
    "        return self\n",
    "    \n",
    "    def __next__(self):\n",
    "        if self.a > self.max_value:\n",
    "            raise StopIteration\n",
    "        temp = self.a\n",
    "        self.a, self.b = self.b, self.a + self.b\n",
    "        return temp\n",
    "fib = Fibo(50)\n",
    "for n in fib:\n",
    "    print(n,end=\" \")"
   ]
  },
  {
   "cell_type": "code",
   "execution_count": 26,
   "id": "952e4e81-bb40-4c42-9914-600991d4fa8d",
   "metadata": {},
   "outputs": [
    {
     "name": "stdout",
     "output_type": "stream",
     "text": [
      "1 2 4 8 16 32 "
     ]
    }
   ],
   "source": [
    "#Q6. Write a generator function in Python that yields the powers of 2 up to a given exponent.\n",
    "def mult_w_2(maxi):\n",
    "    for exp in range(maxi + 1):\n",
    "        yield 2 ** exp\n",
    "\n",
    "for power in mult_w_2(5):\n",
    "    print(power, end=\" \")"
   ]
  },
  {
   "cell_type": "code",
   "execution_count": 27,
   "id": "8585d2d9-0644-4496-b769-f9bca66f6241",
   "metadata": {},
   "outputs": [
    {
     "ename": "NameError",
     "evalue": "name 'path' is not defined",
     "output_type": "error",
     "traceback": [
      "\u001b[1;31m---------------------------------------------------------------------------\u001b[0m",
      "\u001b[1;31mNameError\u001b[0m                                 Traceback (most recent call last)",
      "Cell \u001b[1;32mIn[27], line 10\u001b[0m\n\u001b[0;32m      5\u001b[0m             \u001b[38;5;28;01myield\u001b[39;00m li\u001b[38;5;241m.\u001b[39mrstrip(\u001b[38;5;124m\"\u001b[39m\u001b[38;5;130;01m\\n\u001b[39;00m\u001b[38;5;124m\"\u001b[39m)\n\u001b[0;32m      9\u001b[0m file_path \u001b[38;5;241m=\u001b[39m \u001b[38;5;124m'\u001b[39m\u001b[38;5;124mxyz.txt\u001b[39m\u001b[38;5;124m'\u001b[39m \n\u001b[1;32m---> 10\u001b[0m \u001b[38;5;28;01mfor\u001b[39;00m li \u001b[38;5;129;01min\u001b[39;00m each_line(\u001b[43mpath\u001b[49m):\n\u001b[0;32m     11\u001b[0m     \u001b[38;5;28mprint\u001b[39m(li)\n",
      "\u001b[1;31mNameError\u001b[0m: name 'path' is not defined"
     ]
    }
   ],
   "source": [
    "#Q7. Implement a generator function that reads a file line by line and yields each line as a string.\n",
    "def each_line(path):\n",
    "    with open(file_path, 'r') as fi:\n",
    "        for li in fi:\n",
    "            yield li.rstrip(\"\\n\")\n",
    "\n",
    "\n",
    "\n",
    "file_path = 'xyz.txt' \n",
    "for li in each_line(path):\n",
    "    print(li)"
   ]
  },
  {
   "cell_type": "code",
   "execution_count": 28,
   "id": "253d180c-8c10-450b-85fb-07c2b01f1822",
   "metadata": {},
   "outputs": [
    {
     "name": "stdout",
     "output_type": "stream",
     "text": [
      "[(12, 1), (25, 3), (20, 14), (32, 23)]\n"
     ]
    }
   ],
   "source": [
    "#Q 8. Use a lambda function in Python to sort a list of tuples based on the second element of each tuple\n",
    "tl = [(12, 1), (32, 23), (25, 3), (20, 14)]\n",
    "sort_li = sorted(tl, key=lambda x: x[1])\n",
    "print(sort_li)"
   ]
  },
  {
   "cell_type": "code",
   "execution_count": 29,
   "id": "20e97c7e-e89a-4d9c-85ac-6b78c1ba9322",
   "metadata": {},
   "outputs": [
    {
     "name": "stdout",
     "output_type": "stream",
     "text": [
      "[32.0, 68.0, 86.0, 212.0]\n"
     ]
    }
   ],
   "source": [
    "#Q9. Write a Python program that uses `map()` to convert a list of temperatures from Celsius to Fahrenheit.\n",
    "cels = [0, 20, 30, 100]\n",
    "\n",
    "fhr = list(map(lambda c: c * 9/5 + 32, cels))\n",
    "print(fhr)"
   ]
  },
  {
   "cell_type": "code",
   "execution_count": 31,
   "id": "ff604548-a599-4cf0-82ea-29bc1fdf3024",
   "metadata": {},
   "outputs": [
    {
     "name": "stdout",
     "output_type": "stream",
     "text": [
      "String without vowels: Tnshr\n"
     ]
    }
   ],
   "source": [
    "#Q10. Create a Python program that uses `filter()` to remove all the vowels from a given string.\n",
    "remove_vowels = lambda s: ''.join(filter(lambda c: c.lower() not in \"aeiou\", s))\n",
    "result = remove_vowels(\"Tanushree\")\n",
    "print(\"String without vowels:\", result)"
   ]
  },
  {
   "cell_type": "code",
   "execution_count": null,
   "id": "9c02bc88-8cc7-448f-bdd6-862df2d23126",
   "metadata": {},
   "outputs": [],
   "source": [
    "#Q 11) Imagine an accounting routine used in a book shop. It works on a list with sublists, which look like this:\n",
    "Write a Python program, which returns a list with 2-tuples. Each tuple consists of the order number and the\n",
    "product of the price per item and the quantity. The product should be increased by 10,- € if the value of the\n",
    "order is smaller than 100,00 €.\n",
    "\n",
    "Write a Python program using lambda and map."
   ]
  },
  {
   "cell_type": "code",
   "execution_count": 32,
   "id": "3290d94d-7007-47c4-83a6-91bbe2ee63e2",
   "metadata": {},
   "outputs": [
    {
     "name": "stdout",
     "output_type": "stream",
     "text": [
      "[(34587, 163.8), (98762, 284.75), (77226, 108.85000000000001), (88112, 84.97)]\n"
     ]
    }
   ],
   "source": [
    "#Ans 11:\n",
    "books= [[34587, \"Learning Python, Mark Lutz\", 4, 40.95],\n",
    "    [98762, \"Programming Python, Mark Lutz\", 5, 56.95],\n",
    "    [77226, \"Head First Python, Paul Barry\", 3, 32.95],\n",
    "    [88112, \"Einführung in Python3, Bernd Klein\", 3, 24.99]]\n",
    "\n",
    "tup_li = list(map(lambda each_b: (each_b[0], each_b[2] * each_b[3] if each_b[2] * each_b[3] >= 100.00 else each_b[2] * each_b[3] + 10.00), books))\n",
    "print(tup_li)\n"
   ]
  },
  {
   "cell_type": "code",
   "execution_count": null,
   "id": "3b3c712a-ae6f-4736-8f1c-5825d394c257",
   "metadata": {},
   "outputs": [],
   "source": []
  },
  {
   "cell_type": "code",
   "execution_count": null,
   "id": "12b2386e-fccd-4865-9e25-3ee68550dc82",
   "metadata": {},
   "outputs": [],
   "source": []
  },
  {
   "cell_type": "code",
   "execution_count": null,
   "id": "d9cf344b-5bf6-4abb-a67e-bc1c52f39f37",
   "metadata": {},
   "outputs": [],
   "source": []
  }
 ],
 "metadata": {
  "kernelspec": {
   "display_name": "Python 3 (ipykernel)",
   "language": "python",
   "name": "python3"
  },
  "language_info": {
   "codemirror_mode": {
    "name": "ipython",
    "version": 3
   },
   "file_extension": ".py",
   "mimetype": "text/x-python",
   "name": "python",
   "nbconvert_exporter": "python",
   "pygments_lexer": "ipython3",
   "version": "3.11.5"
  }
 },
 "nbformat": 4,
 "nbformat_minor": 5
}
